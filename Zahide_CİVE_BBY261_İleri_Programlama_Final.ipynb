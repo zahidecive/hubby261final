{
  "nbformat": 4,
  "nbformat_minor": 0,
  "metadata": {
    "colab": {
      "provenance": [],
      "include_colab_link": true
    },
    "kernelspec": {
      "name": "python3",
      "display_name": "Python 3"
    },
    "language_info": {
      "name": "python"
    }
  },
  "cells": [
    {
      "cell_type": "markdown",
      "metadata": {
        "id": "view-in-github",
        "colab_type": "text"
      },
      "source": [
        "<a href=\"https://colab.research.google.com/github/zahidecive/hubby261final/blob/main/Zahide_C%C4%B0VE_BBY261_%C4%B0leri_Programlama_Final.ipynb\" target=\"_parent\"><img src=\"https://colab.research.google.com/assets/colab-badge.svg\" alt=\"Open In Colab\"/></a>"
      ]
    },
    {
      "cell_type": "markdown",
      "source": [
        "**BBY261 Final Sınavına Hoşgeldiniz**\n",
        "\n",
        "Bu Colab not defterinin bir kopyasını kendi \"Google Drive\" hesabınızda \"Dosya >  Drive'da bir kopya kaydet\" seçeneği ile oluşturunuz. Sorulara kendi oluşturduğunuz kopya içinde yanıt veriniz. Her sorunun altında sorunun yanıtlanacağı kod alanı yer almaktadır, sadece bu alanı kullanınız.\n",
        "\n",
        "Github hesabınızda \"hubby261final\" adlı kod deposu oluşturunuz. Çalışmanızı tamamladığınızda Colab dosyanızı Github hesabınızda oluşturduğunuz \"hubby261final\" adlı kod deposuna (repository) \"Dosya > Github'da bir kopya kaydet\" seçeneği ile kaydediniz.\n",
        "\n",
        "Not: Tüm işlemleri tamamladığınızda sınavınızı başarıyla teslim edip edemediğinizi kontrol etmem gerekiyor. Bu açıdan sınavı tamamladığınızda lütfen bana haber verin ve kontrol işlemini birlikte gerçekleştirelim.\n",
        "\n",
        "Süreniz **1** saattir!\n",
        "\n",
        "*Başarılar...*"
      ],
      "metadata": {
        "id": "LwfacJaeu2VZ"
      }
    },
    {
      "cell_type": "markdown",
      "source": [
        "# Soru 1\n",
        "\n",
        "Kod bölümünde verilen paragrafın içindeki kelimelerin sıklıklarını (her bir kelimenin paragraf içinde kaç tane geçtiğini) ekrana listeyelecek kodu yazın. (25 Puan)\n",
        "\n",
        "Örnek çıktı aşağıdaki gibi olmalıdır:\n",
        "\n",
        "```\n",
        "elma - 3\n",
        "armut - 5\n",
        "karpuz - 2\n",
        "...\n",
        "```"
      ],
      "metadata": {
        "id": "N3CYVfJUyLQX"
      }
    },
    {
      "cell_type": "code",
      "execution_count": 11,
      "metadata": {
        "id": "m9Xix4Enun8Z",
        "colab": {
          "base_uri": "https://localhost:8080/"
        },
        "outputId": "786e6314-50d8-4b71-a763-4fc0077b7ffd"
      },
      "outputs": [
        {
          "output_type": "stream",
          "name": "stdout",
          "text": [
            "the: 14\n",
            "power: 2\n",
            "of: 9\n",
            "open: 4\n",
            "culture: 1\n",
            "at: 1\n",
            "creative: 2\n",
            "commons: 2\n",
            "we: 1\n",
            "truly: 1\n",
            "believe: 1\n",
            "in: 6\n",
            "access: 2\n",
            "to: 6\n",
            "cultural: 3\n",
            "heritage: 3\n",
            "this: 1\n",
            "type: 1\n",
            "better: 2\n",
            "sharing: 2\n",
            "helps: 1\n",
            "build: 3\n",
            "and: 12\n",
            "sustain: 1\n",
            "vibrant: 1\n",
            "thriving: 1\n",
            "societies: 1\n",
            "galleries: 1\n",
            "libraries: 1\n",
            "archives: 1\n",
            "museums: 1\n",
            "glams: 5\n",
            "have: 1\n",
            "been: 1\n",
            "gate: 1\n",
            "openers: 1\n",
            "world’s: 1\n",
            "for: 4\n",
            "centuries: 1\n",
            "play: 1\n",
            "a: 2\n",
            "fundamental: 1\n",
            "role: 1\n",
            "communities: 2\n",
            "that: 2\n",
            "they: 4\n",
            "serve: 1\n",
            "provide: 1\n",
            "resources: 2\n",
            "services: 1\n",
            "enjoyment: 1\n",
            "education: 1\n",
            "research: 1\n",
            "advancement: 1\n",
            "knowledge: 1\n",
            "stimulate: 1\n",
            "creativity: 1\n",
            "innovation: 1\n",
            "service: 1\n",
            "global: 1\n",
            "sustainable: 1\n",
            "development: 1\n",
            "by: 2\n",
            "making: 1\n",
            "their: 3\n",
            "collections: 2\n",
            "as: 2\n",
            "openly: 2\n",
            "accessible: 2\n",
            "shareable: 1\n",
            "reusable: 1\n",
            "possible: 1\n",
            "public: 1\n",
            "—: 2\n",
            "both: 1\n",
            "onsite: 1\n",
            "online: 2\n",
            "empower: 1\n",
            "people: 1\n",
            "generation: 2\n",
            "after: 1\n",
            "offering: 1\n",
            "them: 1\n",
            "scientific: 1\n",
            "historical: 1\n",
            "sociocultural: 1\n",
            "future: 1\n",
            "themselves: 1\n",
            "list: 1\n",
            "with: 1\n",
            "programs: 2\n",
            "gets: 1\n",
            "longer: 1\n",
            "every: 1\n",
            "day: 1\n",
            "however: 1\n",
            "those: 1\n",
            "don’t: 1\n",
            "just: 1\n",
            "happen: 1\n",
            "on: 1\n",
            "experience: 1\n",
            "pioneering: 1\n",
            "set: 1\n",
            "trend: 1\n",
            "early: 1\n",
            "days: 1\n",
            "movement: 1\n",
            "unfortunately: 1\n",
            "today: 1\n",
            "still: 1\n",
            "face: 1\n",
            "many: 1\n",
            "barriers: 2\n",
            "trying: 1\n",
            "make: 1\n",
            "strives: 1\n",
            "support: 1\n",
            "overcoming: 1\n",
            "these: 1\n",
            "achieve: 1\n"
          ]
        }
      ],
      "source": [
        "#Sıklık hesabı yapılacak Paragraf\n",
        "import string\n",
        "\n",
        "paragraf = \"The power of open culture. At Creative Commons, we truly believe in the power of open access to cultural heritage. This type of better sharing helps build and sustain vibrant and thriving societies. Galleries, libraries, archives, and museums (GLAMs) have been the gate openers to the world’s cultural heritage for centuries, and play a fundamental role for the communities that they serve. They provide resources and services for enjoyment, education, research, and the advancement of knowledge, and stimulate creativity and innovation in the service of global sustainable development. By making their collections as openly accessible, shareable, and reusable as possible by the public — both on-site and online — they empower people, generation after generation, in offering them the scientific, historical, and socio-cultural resources to build a future for themselves and their communities. The list of GLAMs with open access programs gets longer every day. However, those programs don’t just happen. They build on the experience of pioneering GLAMs that set the trend in the early days of the open movement. Unfortunately, today still, GLAMs face many barriers in trying to make their collections openly accessible online. Creative Commons strives to support GLAMs in overcoming these barriers to achieve better sharing of cultural heritage.\"\n",
        "\n",
        "from collections import Counter\n",
        "import string\n",
        "\n",
        "def kelime_sikliklari(paragraf):\n",
        "    # Noktalama işaretlerini temizle\n",
        "    paragraf = paragraf.translate(str.maketrans(\"\", \"\", string.punctuation))\n",
        "\n",
        "    # Paragrafı küçük harfe çevir\n",
        "    paragraf = paragraf.lower()\n",
        "\n",
        "    # Paragrafı kelimelere ayır\n",
        "    kelimeler = paragraf.split()\n",
        "\n",
        "    # Kelime sıklıklarını hesapla\n",
        "    sıklıklar = Counter(kelimeler)\n",
        "\n",
        "    # Sonuçları ekrana yazdır\n",
        "    for kelime, sıklık in sıklıklar.items():\n",
        "        print(f\"{kelime}: {sıklık}\")\n",
        "\n",
        "# Fonksiyonu çağırarak kelime sıklıklarını listele\n",
        "kelime_sikliklari(paragraf)\n",
        "\n",
        "\n",
        "\n",
        "\n"
      ]
    },
    {
      "cell_type": "markdown",
      "source": [
        "# Soru 2\n",
        "\n",
        "Kod bölümünde verilen URL'de yer alan web sayfasında \"h2\" etiketi ile işaretlenmiş metinleri ekrana listeleyecek kodu yazın. (25 Puan)\n",
        "\n",
        "Örnek çıktı aşağıdaki gibi olmalıdır:\n",
        "\n",
        "\n",
        "```\n",
        "Who We Are\n",
        "Our mission\n",
        "Our vision\n",
        "...\n",
        "```\n",
        "\n"
      ],
      "metadata": {
        "id": "uIuXDXBd3whN"
      }
    },
    {
      "cell_type": "code",
      "source": [
        "#h2 etiketlerinin okunacağı URL\n",
        "import requests\n",
        "from bs4 import BeautifulSoup\n",
        "\n",
        "url = \"https://creativecommons.org/mission/\"\n",
        "\n",
        "# URL'den sayfa içeriğini al\n",
        "response = requests.get(url)\n",
        "html_content = response.text\n",
        "\n",
        "# BeautifulSoup kullanarak HTML içeriğini işle\n",
        "soup = BeautifulSoup(html_content, 'html.parser')\n",
        "\n",
        "# \"h2\" etiketi altındaki metinleri bul\n",
        "h2_tags = soup.find_all('h2')\n",
        "\n",
        "# Metinleri ekrana liste şeklinde yazdır\n",
        "for h2_tag in h2_tags:\n",
        "    print(h2_tag.text.strip())\n",
        "\n",
        "\n",
        "#Sizin kodlarınız\n",
        "\n"
      ],
      "metadata": {
        "id": "vonGuadn4kwE",
        "colab": {
          "base_uri": "https://localhost:8080/"
        },
        "outputId": "367bce21-7500-4ad0-fff5-2ba900d163c8"
      },
      "execution_count": 12,
      "outputs": [
        {
          "output_type": "stream",
          "name": "stdout",
          "text": [
            "Who We Are\n",
            "Our mission\n",
            "Our vision\n",
            "Our strategy\n",
            "Our values\n",
            "Contact Us\n",
            "Subscribe to our Newsletter\n",
            "Support Our Work\n"
          ]
        }
      ]
    },
    {
      "cell_type": "markdown",
      "source": [
        "# Soru 3\n",
        "\n",
        "Kullanıcı tarafından girilen bir sayısının asal sayı olup olmadığını kontrol edecek bir \"asal sayı tahmin oyunu\" kodlayınız. Bu oyunda kullanıcı asal sayı girdiği sürecek ikinci bir tahmin hakkı verilmeli, asal sayı girmediği zaman ise oyun sona erdirilmelidir. (25 Puan)"
      ],
      "metadata": {
        "id": "zEAR579V5al1"
      }
    },
    {
      "cell_type": "code",
      "source": [
        "#Veri girişi\n",
        "def is_prime(num):\n",
        "    \"\"\"Verilen sayının asal olup olmadığını kontrol eden fonksiyon.\"\"\"\n",
        "    if num < 2:\n",
        "        return False\n",
        "    for i in range(2, int(num**0.5) + 1):\n",
        "        if num % i == 0:\n",
        "            return False\n",
        "    return True\n",
        "\n",
        "def prime_guess_game():\n",
        "    \"\"\"Asal sayı tahmin oyununu gerçekleştiren fonksiyon.\"\"\"\n",
        "    print(\"Asal Sayı Tahmin Oyununa Hoş Geldiniz!\")\n",
        "    print(\"Lütfen bir sayı girin ve asal olup olmadığını kontrol edelim.\")\n",
        "    print(\"Oyunu sonlandırmak için 'q' tuşuna basabilirsiniz.\")\n",
        "\n",
        "    deneme_hakki = 5\n",
        "\n",
        "    while True:\n",
        "        user_input = input(\"Tahmininizi girin: \")\n",
        "\n",
        "        if user_input.lower() == 'q':\n",
        "            print(\"Oyun sonlandırıldı.\")\n",
        "            break\n",
        "\n",
        "        try:\n",
        "            guess = int(user_input)\n",
        "        except ValueError:\n",
        "            print(\"Geçerli bir sayı giriniz.\")\n",
        "            continue\n",
        "\n",
        "        if is_prime(guess):\n",
        "            print(f\"{guess} bir asal sayıdır! Tebrikler!\")\n",
        "        else:\n",
        "            deneme_hakki -= 1\n",
        "            if deneme_hakki > 0:\n",
        "                print(f\"{guess} bir asal sayı değildir. Kalan deneme hakkınız: {deneme_hakki}\")\n",
        "            else:\n",
        "                print(f\"Üzgünüm, {guess} bir asal sayı değildir. Deneme hakkınız bitti. Oyun sonlandırıldı.\")\n",
        "                break\n",
        "\n",
        "# Oyunu başlat\n",
        "prime_guess_game()\n",
        "\n",
        "\n",
        "\n",
        "\n",
        "# Sizin kodlarınız\n",
        "\n"
      ],
      "metadata": {
        "id": "ntHxasd87B1f",
        "colab": {
          "base_uri": "https://localhost:8080/",
          "height": 442
        },
        "outputId": "884a14ee-9583-4547-a01e-6e730f114841"
      },
      "execution_count": 20,
      "outputs": [
        {
          "output_type": "stream",
          "name": "stdout",
          "text": [
            "Asal Sayı Tahmin Oyununa Hoş Geldiniz!\n",
            "Lütfen bir sayı girin ve asal olup olmadığını kontrol edelim.\n",
            "Oyunu sonlandırmak için 'q' tuşuna basabilirsiniz.\n"
          ]
        },
        {
          "output_type": "error",
          "ename": "KeyboardInterrupt",
          "evalue": "Interrupted by user",
          "traceback": [
            "\u001b[0;31m---------------------------------------------------------------------------\u001b[0m",
            "\u001b[0;31mKeyboardInterrupt\u001b[0m                         Traceback (most recent call last)",
            "\u001b[0;32m<ipython-input-20-d0e52f115cc4>\u001b[0m in \u001b[0;36m<cell line: 43>\u001b[0;34m()\u001b[0m\n\u001b[1;32m     41\u001b[0m \u001b[0;34m\u001b[0m\u001b[0m\n\u001b[1;32m     42\u001b[0m \u001b[0;31m# Oyunu başlat\u001b[0m\u001b[0;34m\u001b[0m\u001b[0;34m\u001b[0m\u001b[0m\n\u001b[0;32m---> 43\u001b[0;31m \u001b[0mprime_guess_game\u001b[0m\u001b[0;34m(\u001b[0m\u001b[0;34m)\u001b[0m\u001b[0;34m\u001b[0m\u001b[0;34m\u001b[0m\u001b[0m\n\u001b[0m\u001b[1;32m     44\u001b[0m \u001b[0;34m\u001b[0m\u001b[0m\n\u001b[1;32m     45\u001b[0m \u001b[0;34m\u001b[0m\u001b[0m\n",
            "\u001b[0;32m<ipython-input-20-d0e52f115cc4>\u001b[0m in \u001b[0;36mprime_guess_game\u001b[0;34m()\u001b[0m\n\u001b[1;32m     18\u001b[0m \u001b[0;34m\u001b[0m\u001b[0m\n\u001b[1;32m     19\u001b[0m     \u001b[0;32mwhile\u001b[0m \u001b[0;32mTrue\u001b[0m\u001b[0;34m:\u001b[0m\u001b[0;34m\u001b[0m\u001b[0;34m\u001b[0m\u001b[0m\n\u001b[0;32m---> 20\u001b[0;31m         \u001b[0muser_input\u001b[0m \u001b[0;34m=\u001b[0m \u001b[0minput\u001b[0m\u001b[0;34m(\u001b[0m\u001b[0;34m\"Tahmininizi girin: \"\u001b[0m\u001b[0;34m)\u001b[0m\u001b[0;34m\u001b[0m\u001b[0;34m\u001b[0m\u001b[0m\n\u001b[0m\u001b[1;32m     21\u001b[0m \u001b[0;34m\u001b[0m\u001b[0m\n\u001b[1;32m     22\u001b[0m         \u001b[0;32mif\u001b[0m \u001b[0muser_input\u001b[0m\u001b[0;34m.\u001b[0m\u001b[0mlower\u001b[0m\u001b[0;34m(\u001b[0m\u001b[0;34m)\u001b[0m \u001b[0;34m==\u001b[0m \u001b[0;34m'q'\u001b[0m\u001b[0;34m:\u001b[0m\u001b[0;34m\u001b[0m\u001b[0;34m\u001b[0m\u001b[0m\n",
            "\u001b[0;32m/usr/local/lib/python3.10/dist-packages/ipykernel/kernelbase.py\u001b[0m in \u001b[0;36mraw_input\u001b[0;34m(self, prompt)\u001b[0m\n\u001b[1;32m    849\u001b[0m                 \u001b[0;34m\"raw_input was called, but this frontend does not support input requests.\"\u001b[0m\u001b[0;34m\u001b[0m\u001b[0;34m\u001b[0m\u001b[0m\n\u001b[1;32m    850\u001b[0m             )\n\u001b[0;32m--> 851\u001b[0;31m         return self._input_request(str(prompt),\n\u001b[0m\u001b[1;32m    852\u001b[0m             \u001b[0mself\u001b[0m\u001b[0;34m.\u001b[0m\u001b[0m_parent_ident\u001b[0m\u001b[0;34m,\u001b[0m\u001b[0;34m\u001b[0m\u001b[0;34m\u001b[0m\u001b[0m\n\u001b[1;32m    853\u001b[0m             \u001b[0mself\u001b[0m\u001b[0;34m.\u001b[0m\u001b[0m_parent_header\u001b[0m\u001b[0;34m,\u001b[0m\u001b[0;34m\u001b[0m\u001b[0;34m\u001b[0m\u001b[0m\n",
            "\u001b[0;32m/usr/local/lib/python3.10/dist-packages/ipykernel/kernelbase.py\u001b[0m in \u001b[0;36m_input_request\u001b[0;34m(self, prompt, ident, parent, password)\u001b[0m\n\u001b[1;32m    893\u001b[0m             \u001b[0;32mexcept\u001b[0m \u001b[0mKeyboardInterrupt\u001b[0m\u001b[0;34m:\u001b[0m\u001b[0;34m\u001b[0m\u001b[0;34m\u001b[0m\u001b[0m\n\u001b[1;32m    894\u001b[0m                 \u001b[0;31m# re-raise KeyboardInterrupt, to truncate traceback\u001b[0m\u001b[0;34m\u001b[0m\u001b[0;34m\u001b[0m\u001b[0m\n\u001b[0;32m--> 895\u001b[0;31m                 \u001b[0;32mraise\u001b[0m \u001b[0mKeyboardInterrupt\u001b[0m\u001b[0;34m(\u001b[0m\u001b[0;34m\"Interrupted by user\"\u001b[0m\u001b[0;34m)\u001b[0m \u001b[0;32mfrom\u001b[0m \u001b[0;32mNone\u001b[0m\u001b[0;34m\u001b[0m\u001b[0;34m\u001b[0m\u001b[0m\n\u001b[0m\u001b[1;32m    896\u001b[0m             \u001b[0;32mexcept\u001b[0m \u001b[0mException\u001b[0m \u001b[0;32mas\u001b[0m \u001b[0me\u001b[0m\u001b[0;34m:\u001b[0m\u001b[0;34m\u001b[0m\u001b[0;34m\u001b[0m\u001b[0m\n\u001b[1;32m    897\u001b[0m                 \u001b[0mself\u001b[0m\u001b[0;34m.\u001b[0m\u001b[0mlog\u001b[0m\u001b[0;34m.\u001b[0m\u001b[0mwarning\u001b[0m\u001b[0;34m(\u001b[0m\u001b[0;34m\"Invalid Message:\"\u001b[0m\u001b[0;34m,\u001b[0m \u001b[0mexc_info\u001b[0m\u001b[0;34m=\u001b[0m\u001b[0;32mTrue\u001b[0m\u001b[0;34m)\u001b[0m\u001b[0;34m\u001b[0m\u001b[0;34m\u001b[0m\u001b[0m\n",
            "\u001b[0;31mKeyboardInterrupt\u001b[0m: Interrupted by user"
          ]
        }
      ]
    },
    {
      "cell_type": "markdown",
      "source": [
        "# Soru 4\n",
        "\n",
        "Kullanıcı tarafından girilen bir cümlenin \"İngilizce\" olup olmadığını anlayacak kodu yazınız. Girilen cümlenin analizinden sonra sonuç ekrana yazdırılmalı.\n",
        "\n",
        "Not: Bu soru için kullandığınız ek bir dosya varsa o dosyayı da Github deponuza eklemeyi unutmayınız.\n",
        "\n",
        "Örnek çıktı:\n",
        "\n",
        "```\n",
        "\"I want to learn Python programming in my school life\" cümlesi ingilizcedir.\n",
        "```\n"
      ],
      "metadata": {
        "id": "_3_lGQj97G4Z"
      }
    },
    {
      "cell_type": "code",
      "source": [
        "#Cümle girişi\n",
        "#girdi = input(\"Bir cümle giriniz: \")\n",
        "# Sık kullanılan İngilizce kelimeler listesi\n",
        "## İngilizce kelimeleri içeren dosyanın adı\n",
        "english_words_file = \"ingilizcekelimeler.txt\"\n",
        "\n",
        "# İngilizce kelimeleri dosyadan okuma fonksiyonu\n",
        "def read_english_words(file_path):\n",
        "    with open(file_path, \"r\", encoding=\"utf-8\") as file:\n",
        "        return [line.strip() for line in file]\n",
        "\n",
        "# İngilizce olup olmadığını ve İngilizce kelimeleri belirleme fonksiyonu\n",
        "def analyze_english(sentence):\n",
        "    words = sentence.split()\n",
        "    english_words = [word for word in words if word.lower() in common_english_words]\n",
        "    english_ratio = len(english_words) / len(words)\n",
        "\n",
        "    return english_ratio, english_words\n",
        "\n",
        "# Kullanıcıdan cümle alıp analiz yapan kod\n",
        "while True:\n",
        "    user_input = input(\"Bir cümle girin (Çıkmak için 'exit' yazabilirsiniz): \")\n",
        "\n",
        "    if user_input.lower() == 'exit':\n",
        "        print(\"Programdan çıkılıyor...\")\n",
        "        break\n",
        "\n",
        "    english_ratio, english_words = analyze_english(user_input)\n",
        "\n",
        "    print(f\"İngilizce kelime oranı: {english_ratio:.2%}\")\n",
        "\n",
        "    if english_ratio >= 0.5:\n",
        "        print(\"Girilen cümle büyük oranda İngilizce.\")\n",
        "        print(\"İngilizce kelimeler: \", ', '.join(english_words))\n",
        "    else:\n",
        "        print(\"Girilen cümle İngilizce değil.\")\n",
        "\n",
        "\n",
        "\n",
        "\n",
        "# Sizin kodlarınız\n",
        "\n"
      ],
      "metadata": {
        "id": "MJb8eoth-Lam",
        "colab": {
          "base_uri": "https://localhost:8080/"
        },
        "outputId": "1b4d3a35-476d-4290-ec2c-4845b26eddb4"
      },
      "execution_count": null,
      "outputs": [
        {
          "output_type": "stream",
          "name": "stdout",
          "text": [
            "Bir cümle girin (Çıkmak için 'exit' yazabilirsiniz): she is a doctor\n",
            "İngilizce kelime oranı: 75.00%\n",
            "Girilen cümle büyük oranda İngilizce.\n",
            "İngilizce kelimeler:  she, a, doctor\n"
          ]
        }
      ]
    }
  ]
}